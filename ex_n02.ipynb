{
  "nbformat": 4,
  "nbformat_minor": 0,
  "metadata": {
    "colab": {
      "name": "ex n02",
      "provenance": [],
      "authorship_tag": "ABX9TyPYcAJchbtBX0m0CBSYFxX3",
      "include_colab_link": true
    },
    "kernelspec": {
      "name": "python3",
      "display_name": "Python 3"
    },
    "language_info": {
      "name": "python"
    }
  },
  "cells": [
    {
      "cell_type": "markdown",
      "metadata": {
        "id": "view-in-github",
        "colab_type": "text"
      },
      "source": [
        "<a href=\"https://colab.research.google.com/github/barathrajs/barath-raj.s/blob/main/ex_n02.ipynb\" target=\"_parent\"><img src=\"https://colab.research.google.com/assets/colab-badge.svg\" alt=\"Open In Colab\"/></a>"
      ]
    },
    {
      "cell_type": "code",
      "execution_count": 2,
      "metadata": {
        "colab": {
          "base_uri": "https://localhost:8080/"
        },
        "id": "doQMAEIYxbtL",
        "outputId": "b36dcffb-64d6-4a54-c683-b7305855b065"
      },
      "outputs": [
        {
          "output_type": "stream",
          "name": "stdout",
          "text": [
            "Choice 1: add, 2: sub, 3: div, 4: mul, 5: quit\n",
            "Enter the choice addition option :2\n",
            " You have chosen subtraction option :\n",
            " Enter the value for A :4\n",
            " Enter the value for B :7\n",
            "The result 4 - 7 = -3\n"
          ]
        }
      ],
      "source": [
        "print (\"Choice 1: add, 2: sub, 3: div, 4: mul, 5: quit\")\n",
        "n1 = input(\"Enter the choice addition option :\")\n",
        "n = int(n1)\n",
        "if (n == 1):\n",
        "    print (\" You have chosen addition option :\")\n",
        "    a1=input(\" Enter the value for A :\")\n",
        "    b1=input(\" Enter the value for B :\")\n",
        "    a=int(a1)\n",
        "    b=int(b1)\n",
        "    c=a + b\n",
        "    print (\"the result\",a,\"+\",b,\"=\",c)\n",
        "elif (n == 2):\n",
        "    print (\" You have chosen subtraction option :\")\n",
        "    a1=input(\" Enter the value for A :\")\n",
        "    b1=input(\" Enter the value for B :\")\n",
        "    a=int(a1)\n",
        "    b=int(b1)\n",
        "    c=a - b\n",
        "    print (\"The result\",a,\"-\",b,\"=\",c)\n",
        "elif (n == 3):      \n",
        "    print(\" You have chosen division option :\")\n",
        "    a1=input(\" Enter the value for A :\")\n",
        "    b1=input(\" Enter the value for B :\")\n",
        "    a=Int(a1)\n",
        "    b=int(b1)\n",
        "    c=a / b\n",
        "    print (\"The result\",a,\"/\",b,\"=\",c)\n",
        "elif (n == 4):\n",
        "    print (\" You have chosen multiplication option :\")\n",
        "    a1=input (\" Enter the value for A :\")\n",
        "    b1=input (\" Enter the value for B :\")\n",
        "    a=int (a1)\n",
        "    b=int (b1)\n",
        "    c=a * b\n",
        "    print (\"The result\",a,\"*\",b,\"=\",c)\n",
        "else :\n",
        "    print (\" aalub pundfa nanthan kedachana:,n\")\n",
        "    exit()\n",
        "    \n",
        "\n",
        "\n"
      ]
    }
  ]
}